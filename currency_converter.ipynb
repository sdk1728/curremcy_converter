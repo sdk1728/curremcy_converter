{
 "cells": [
  {
   "cell_type": "code",
   "execution_count": 2,
   "id": "b58f671b",
   "metadata": {},
   "outputs": [
    {
     "name": "stdout",
     "output_type": "stream",
     "text": [
      "Enter amount : \n",
      "19\n",
      "Enter the currency in which you want to convert your amount!! \n",
      " Available options are:\n",
      " \n",
      "Argentine Peso\n",
      "Australian Dollar\n",
      "Bahraini Dinar\n",
      "Botswana Pula\n",
      "Brazilian Real\n",
      "British Pound\n",
      "Bruneian Dollar\n",
      "Bulgarian Lev\n",
      "Canadian Dollar\n",
      "Chilean Peso\n",
      "Chinese Yuan Renminbi\n",
      "Colombian Peso\n",
      "Croatian Kuna\n",
      "Czech Koruna\n",
      "Danish Krone\n",
      "Emirati Dirham\n",
      "Euro\n",
      "Hong Kong Dollar\n",
      "Hungarian Forint\n",
      "Icelandic Krona\n",
      "Indonesian Rupiah\n",
      "Iranian Rial\n",
      "Israeli Shekel\n",
      "Japanese Yen\n",
      "Kazakhstani Tenge\n",
      "Kuwaiti Dinar\n",
      "Libyan Dinar\n",
      "Malaysian Ringgit\n",
      "Mauritian Rupee\n",
      "Mexican Peso\n",
      "Nepalese Rupee\n",
      "New Zealand Dollar\n",
      "Norwegian Krone\n",
      "Omani Rial\n",
      "Pakistani Rupee\n",
      "Philippine Peso\n",
      "Polish Zloty\n",
      "Qatari Riyal\n",
      "Romanian New Leu\n",
      "Russian Ruble\n",
      "Saudi Arabian Riyal\n",
      "Singapore Dollar\n",
      "South African Rand\n",
      "South Korean Won\n",
      "Sri Lankan Rupee\n",
      "Swedish Krona\n",
      "Swiss Franc\n",
      "Taiwan New Dollar\n",
      "Thai Baht\n",
      "Trinidadian Dollar\n",
      "Turkish Lira\n",
      "US Dollar\n",
      "Venezuelan Bolivar\n",
      "Please enter one of the above currency:\n",
      "Pakistani Rupee\n",
      "19 INR is equal to 52.21409 Pakistani Rupee)\n"
     ]
    }
   ],
   "source": [
    "with open (\"cuurency.txt\") as f:  # open the text file in your device\n",
    "    lines=f.readlines()  # read the file with python\n",
    "    \n",
    "currency_dict={}         # creating a dict to store currencies\n",
    "    \n",
    "for line in lines:\n",
    "    parsed=line.split('\\t')\n",
    "    currency_dict[parsed[0]]=parsed[1]  # setting curr_name as keys and exchange rate as values\n",
    "    \n",
    "   # print(parsed)\n",
    "   # break\n",
    "    \n",
    "#print(currency_dict)\n",
    "\n",
    "amount=int(input(\"Enter amount : \\n\"))\n",
    "print(\"Enter the currency in which you want to convert your amount!! \\n Available options are:\\n \")\n",
    "[print (item) for item in currency_dict.keys()]\n",
    "currency=input(\"Please enter one of the above currency:\\n\")\n",
    "print(f\"{amount} INR is equal to {amount * float(currency_dict[currency])} {currency})\")\n",
    "    \n",
    "    "
   ]
  },
  {
   "cell_type": "code",
   "execution_count": null,
   "id": "ed25bc6a",
   "metadata": {},
   "outputs": [],
   "source": []
  },
  {
   "cell_type": "code",
   "execution_count": null,
   "id": "048e46e0",
   "metadata": {},
   "outputs": [],
   "source": []
  },
  {
   "cell_type": "code",
   "execution_count": null,
   "id": "baa565fe",
   "metadata": {},
   "outputs": [],
   "source": []
  }
 ],
 "metadata": {
  "kernelspec": {
   "display_name": "Python 3 (ipykernel)",
   "language": "python",
   "name": "python3"
  },
  "language_info": {
   "codemirror_mode": {
    "name": "ipython",
    "version": 3
   },
   "file_extension": ".py",
   "mimetype": "text/x-python",
   "name": "python",
   "nbconvert_exporter": "python",
   "pygments_lexer": "ipython3",
   "version": "3.9.7"
  }
 },
 "nbformat": 4,
 "nbformat_minor": 5
}
